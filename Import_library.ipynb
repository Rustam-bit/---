{
 "cells": [
  {
   "attachments": {
    "image.png": {
     "image/png": "[encoded data removed]"
    }
   },
   "cell_type": "markdown",
   "metadata": {},
   "source": [
    "# Декомпозиция на основе тренда и сезонности\n",
    "\n",
    "Выделяют три модели представления временного ряда. \n",
    "Аддитивная\n",
    "\n",
    "(Yt)=Tt+St+et\n",
    "\n",
    "Мультипликативная\n",
    "\n",
    "(Yt)=Tt×St×et\n",
    "\n",
    "Смешанная\n",
    "\n",
    "(Yt)=(Tt+et)×St\n",
    "\n",
    "где\n",
    "- (Yt ) ̂- прогнозное значение;\n",
    "- T – основной сигнал ряда;\n",
    "- S – коэффициент сезонности;\n",
    "- e – остатки (ошибка).\n",
    "\n",
    "Понятие коэффициента сезонности:\n",
    "- Сезонность - периодические колебания, наблюдаемые на временных рядах.\n",
    "- Коэффициент сезонности показывает, насколько продажи в данном периоде отклонились от среднего значения.\n",
    "\n",
    "![image.png](attachment:image.png)\n",
    "\n",
    "Выполним разложение ряда по мультипликативной модели и изучим результаты.\n",
    "\n",
    "Обратите внимание на параметр freq. Мы передаем его в модель, чтобы помочь с пониманием количества периодов в одном сезоне. В случае данных с разбивкой по кварталам, freq будет равен 4.\n",
    "\n",
    "Чтобы получить значения тренда, надо выполнить команду:"
   ]
  },
  {
   "cell_type": "code",
   "execution_count": null,
   "metadata": {},
   "outputs": [],
   "source": [
    "# декомпозиция \n",
    "result_M = seasonal_decompose(df.Y, model='multiplicative', freq=12)\n",
    "\n",
    "# Построение графика\n",
    "plt.rcParams.update({'figure.figsize': (10,10)})\n",
    "result_M.plot().suptitle('Мультипликативная модель')"
   ]
  },
  {
   "cell_type": "code",
   "execution_count": null,
   "metadata": {},
   "outputs": [],
   "source": [
    "result_M.seasonal['2011']"
   ]
  },
  {
   "cell_type": "code",
   "execution_count": null,
   "metadata": {},
   "outputs": [],
   "source": [
    "result_M.trend['2011']"
   ]
  },
  {
   "cell_type": "markdown",
   "metadata": {},
   "source": [
    "Выполним аддитивное разложение ряда, чтобы посмотреть, какой вариант лучше подходит в нашем случае."
   ]
  },
  {
   "cell_type": "code",
   "execution_count": null,
   "metadata": {},
   "outputs": [],
   "source": [
    "# Decompose \n",
    "result_A = seasonal_decompose(df.Y, model='additive', freq=12)\n",
    "\n",
    "# Plot\n",
    "plt.rcParams.update({'figure.figsize': (10,10)})\n",
    "result_A.plot().suptitle('Адитивная модель')"
   ]
  },
  {
   "cell_type": "code",
   "execution_count": null,
   "metadata": {},
   "outputs": [],
   "source": [
    "result_A.seasonal['2011']"
   ]
  },
  {
   "cell_type": "code",
   "execution_count": null,
   "metadata": {},
   "outputs": [],
   "source": [
    "result_A.trend['2011']"
   ]
  },
  {
   "cell_type": "markdown",
   "metadata": {},
   "source": [
    "Значения тренда и сезонности мы можем получить аналогичным вышеописанным методом. Единственное, что название модели сменится с result_M на result_A."
   ]
  },
  {
   "cell_type": "markdown",
   "metadata": {},
   "source": [
    "# Корректировка ряда"
   ]
  },
  {
   "cell_type": "markdown",
   "metadata": {},
   "source": [
    "Итог оценки наличия аномалий в году:\n",
    "- Релевантными для прогноза являются только данные начиная с 2014 года.\n",
    "- Первое полугодие 2018 года нуждается в корректировке. \n",
    "\n",
    "Чтобы скорректировать, достаточно выполнить команду:\n"
   ]
  },
  {
   "cell_type": "code",
   "execution_count": null,
   "metadata": {},
   "outputs": [],
   "source": [
    "df.loc['2018-01-01']=df.loc['2017-01-01']"
   ]
  },
  {
   "cell_type": "markdown",
   "metadata": {},
   "source": [
    "Аналогично повторить для других месяцев 2018 года начиная с февраля и по июнь.\n",
    "\n",
    "Построим повторно совмещенный график по месяцам, но уже начиная только с 2014 года."
   ]
  },
  {
   "cell_type": "code",
   "execution_count": null,
   "metadata": {},
   "outputs": [],
   "source": [
    "df.loc['2018-02-01']=df.loc['2017-02-01']\n",
    "df.loc['2018-03-01']=df.loc['2017-03-01']\n",
    "df.loc['2018-04-01']=df.loc['2017-04-01']\n",
    "df.loc['2018-05-01']=df.loc['2017-05-01']\n",
    "df.loc['2018-06-01']=df.loc['2017-06-01']"
   ]
  },
  {
   "cell_type": "code",
   "execution_count": null,
   "metadata": {},
   "outputs": [],
   "source": [
    "sesonal(df['2014':],12)"
   ]
  },
  {
   "cell_type": "markdown",
   "metadata": {},
   "source": [
    "В итоге мы получим очищенные данные, пригодные для построения прогноза."
   ]
  },
  {
   "cell_type": "code",
   "execution_count": null,
   "metadata": {},
   "outputs": [],
   "source": [
    "plot(df, ts_linewidth=3)"
   ]
  },
  {
   "cell_type": "markdown",
   "metadata": {},
   "source": [
    "# Тренировочные и тестовые наборы\n",
    "\n",
    "Чтобы иметь возможность более качественно оценивать модель, разделим данные на тренировочные и тестовые. Часть данных мы «спрячем» от модели и будем пробовать их предсказать."
   ]
  },
  {
   "cell_type": "code",
   "execution_count": null,
   "metadata": {},
   "outputs": [],
   "source": [
    "train=df['2014':'2018']\n",
    "train.head()"
   ]
  },
  {
   "cell_type": "markdown",
   "metadata": {},
   "source": [
    "Тестовые данные возьмем за 7 месяцев 2019 года. "
   ]
  },
  {
   "cell_type": "code",
   "execution_count": null,
   "metadata": {},
   "outputs": [],
   "source": [
    "test=df['2019']\n",
    "test.head()"
   ]
  },
  {
   "attachments": {
    "image.png": {
     "image/png": "[encoded data removed]"
    }
   },
   "cell_type": "markdown",
   "metadata": {},
   "source": [
    "# Модель Хольта-Винтерса\n",
    "\n",
    "Модель Хольта-Винтерса использует идеи модели экспоненциального сглаживания, но является более сложной и может применяться к рядам, содержащим тенденцию и сезонность. \n",
    "\n",
    "![image.png](attachment:image.png)\n",
    "\n",
    "где\n",
    "\n",
    "Lt – новая сглаженная величина;\n",
    "\n",
    "α – постоянная сглаживания для данных (0 ≤ α ≥ 1);\n",
    "\n",
    "Yt – новое наблюдение или реальное значение ряда в период t;\n",
    "\n",
    "β - постоянная сглаживания для оценки тренда (0 ≤ β ≤1);\n",
    "\n",
    "Тt - собственно оценка тренда;\n",
    "\n",
    "(гамма) - постоянная сглаживания для оценки сезонности;\n",
    "\n",
    "St – оценка сезонности; \n",
    "\n",
    "s – длительность периода сезонного колебания;\n",
    "\n",
    "р – количество периодов вперед, на которое делается прогноз;\n",
    "\n",
    "Ŷ t+p - прогноз на р периодов вперед.\n",
    "\n",
    "К счастью, модель реализована в одной из библиотек Python и мы не будем воспроизводить все формулы."
   ]
  },
  {
   "cell_type": "code",
   "execution_count": null,
   "metadata": {},
   "outputs": [],
   "source": [
    "fit1 = ExponentialSmoothing(train, seasonal_periods=12, trend='add', seasonal='mul').fit()"
   ]
  },
  {
   "cell_type": "code",
   "execution_count": null,
   "metadata": {},
   "outputs": [],
   "source": [
    "fit1.params"
   ]
  },
  {
   "cell_type": "markdown",
   "metadata": {},
   "source": [
    "Первая команда «тренирует» модель fit1. В данном случае реализована классическая модель с аддитивным трендом и мультипликативной сезонной компонентой. Но мы можем построить модель вида в части сочетаний аддитивной и мультипликативной моделей. \n",
    "\n",
    "Обратите внимание на параметр seasonal_periods – мы подсказываем модели количество сезонов. Этот параметр необходимо изменить при прогнозировании по кварталам.\n",
    "\n",
    "Из параметров модели нам интересны:\n",
    "- 'smoothing_level', 'smoothing_slope', 'smoothing_seasonal' – это постоянные сглаживания для основного ряда данных, тренда и сезонности; \n",
    "- 'initial_level' – начальный уровень основного ряда данных; \n",
    "- 'initial_slope' – начальный уровень тренда; \n",
    "- 'initial_seasons' – начальные значения коэффициентов сезонности.\n",
    "\n",
    "Мы можем получить расчетные значения для модели и рассчитать метрики точности."
   ]
  },
  {
   "cell_type": "code",
   "execution_count": null,
   "metadata": {},
   "outputs": [],
   "source": [
    "fit1.fittedvalues"
   ]
  },
  {
   "cell_type": "markdown",
   "metadata": {},
   "source": [
    "Рассчитаем прогноз на 12 месяцев вперед."
   ]
  },
  {
   "cell_type": "code",
   "execution_count": null,
   "metadata": {},
   "outputs": [],
   "source": [
    "fit1.forecast(12)"
   ]
  },
  {
   "cell_type": "code",
   "execution_count": null,
   "metadata": {},
   "outputs": [],
   "source": [
    "ax = df.plot(figsize=(15,6), color='black', title=\"Прогноз методом Хольта Винтерса\" )\n",
    "fit1.fittedvalues.plot(ax=ax, style='--', color='red')\n",
    "fit1.forecast(12).plot(ax=ax, style='--', color='green')\n",
    "plt.show()"
   ]
  },
  {
   "cell_type": "markdown",
   "metadata": {},
   "source": [
    "Некоторые комментарии к коду:\n",
    "- figsize=(15,6) размер картинки по горизонтали и вертикали.\n",
    "- Color – цвет линии.\n",
    "- title – название графика.\n",
    "- style=’—' – заполнение линии, можно изменять. "
   ]
  },
  {
   "attachments": {
    "image.png": {
     "image/png": "[encoded data removed]"
    }
   },
   "cell_type": "markdown",
   "metadata": {},
   "source": [
    "#  Оценка качества и точности математических моделей с использованием стандартных метрик (ошибок)\n",
    "\n",
    "## Среднее абсолютное отклонение\n",
    "\n",
    "![image.png](attachment:image.png)"
   ]
  },
  {
   "attachments": {
    "image.png": {
     "image/png": "[encoded data removed]"
    }
   },
   "cell_type": "markdown",
   "metadata": {},
   "source": [
    "## Среднеквадратическая ошибка \n",
    "\n",
    "![image.png](attachment:image.png)\n",
    "\n",
    "Наиболее важная. Именно на нее обращают внимание в первую очередь, когда сравнивают точность методов между собой. Уменьшение этой ошибки приводит к уменьшению всех остальных ошибок."
   ]
  },
  {
   "attachments": {
    "image.png": {
     "image/png": "[encoded data removed]"
    }
   },
   "cell_type": "markdown",
   "metadata": {},
   "source": [
    "## Средняя абсолютная ошибка в процентах\n",
    "\n",
    "![image.png](attachment:image.png)"
   ]
  },
  {
   "attachments": {
    "image.png": {
     "image/png": "[encoded data removed]"
    }
   },
   "cell_type": "markdown",
   "metadata": {},
   "source": [
    "## Средняя процентная ошибка\n",
    "\n",
    "![image.png](attachment:image.png)"
   ]
  }
 ],
 "metadata": {
  "kernelspec": {
   "display_name": "Python 3 (ipykernel)",
   "language": "python",
   "name": "python3"
  },
  "language_info": {
   "codemirror_mode": {
    "name": "ipython",
    "version": 3
   },
   "file_extension": ".py",
   "mimetype": "text/x-python",
   "name": "python",
   "nbconvert_exporter": "python",
   "pygments_lexer": "ipython3",
   "version": "3.12.5"
  }
 },
 "nbformat": 4,
 "nbformat_minor": 4
}
